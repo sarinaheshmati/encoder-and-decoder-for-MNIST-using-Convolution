{
  "cells": [
    {
      "cell_type": "code",
      "execution_count": 125,
      "metadata": {
        "id": "eTJdxQ5mAMoI"
      },
      "outputs": [],
      "source": [
        "import torch\n",
        "from torch.utils.data import DataLoader\n",
        "from torchvision import datasets, transforms\n",
        "\n",
        "# Define transformations for the data\n",
        "transform = transforms.Compose([transforms.ToTensor()])\n",
        "\n",
        "# Download and load the training data\n",
        "trainset = datasets.MNIST(root='./data/train', train=True, download=True, transform=transform)\n",
        "trainloader = DataLoader(trainset, batch_size=32, shuffle=True)"
      ]
    },
    {
      "cell_type": "code",
      "source": [
        "fig, axs = plt.subplots(2, 10, figsize=(20, 4))\n",
        "for i in range(10):\n",
        "  img, _ =  trainset[i]\n",
        "  axs[0, i].imshow(img[0], cmap='gray')\n",
        "\n",
        "plt.show()"
      ],
      "metadata": {
        "id": "SRdVg6OyMioL"
      },
      "execution_count": null,
      "outputs": []
    },
    {
      "cell_type": "code",
      "execution_count": null,
      "metadata": {
        "id": "qpFB2Hd4DLVj"
      },
      "outputs": [],
      "source": [
        "trainloader"
      ]
    },
    {
      "cell_type": "code",
      "execution_count": null,
      "metadata": {
        "id": "_9ETOpM5BKHX"
      },
      "outputs": [],
      "source": [
        "import torch\n",
        "import torch.nn as nn\n",
        "import torch.optim as optim\n",
        "import torch.utils.data\n",
        "import torchvision\n",
        "from torchvision import datasets, transforms\n",
        "import matplotlib.pyplot as plt\n",
        "\n",
        "class Encoder(nn.Module):\n",
        "  def __init__(self):\n",
        "    super(Encoder, self).__init__()\n",
        "    self.conv1 = nn.Conv2d(1, 16, 3, stride=1, padding=1)  # Output: 16 x 28 x 28\n",
        "    self.conv2 = nn.Conv2d(16, 32, 4, stride=2, padding=1)  # Output: 32 x 14 x 14\n",
        "    self.conv3 = nn.Conv2d(32, 64, 16, stride=2, padding=1)  # Output: 64 x 1 x 1\n",
        "    self.relu = nn.ReLU()\n",
        "\n",
        "  def forward(self, x):\n",
        "    x = self.relu(self.conv1(x))\n",
        "    x = self.relu(self.conv2(x))\n",
        "    x = self.relu(self.conv3(x))\n",
        "    return x\n",
        "\n",
        "encoder = Encoder()\n",
        "# print(encoder)"
      ]
    },
    {
      "cell_type": "code",
      "execution_count": null,
      "metadata": {
        "id": "UznKxXV0BNYc"
      },
      "outputs": [],
      "source": [
        "class Decoder(nn.Module):\n",
        "  def __init__(self):\n",
        "    super(Decoder, self).__init__()\n",
        "    self.conv1 = nn.ConvTranspose2d(64, 32, 9, stride=1, padding=1)  # Output: 32 x 7 x 7\n",
        "    self.conv2 = nn.ConvTranspose2d(32, 16, 4, stride=2, padding=1)  # Output: 16 x 14 x 14\n",
        "    self.conv3 = nn.ConvTranspose2d(16, 1, 4, stride=2, padding=1)  # Output: 1 x 28 x 28\n",
        "    self.relu = nn.ReLU()\n",
        "\n",
        "  def forward(self, x):\n",
        "    x = self.relu(self.conv1(x))\n",
        "    x = self.relu(self.conv2(x))\n",
        "    x = self.relu(self.conv3(x))\n",
        "    return x\n",
        "\n",
        "decoder = Decoder()\n",
        "# print(decoder)"
      ]
    },
    {
      "cell_type": "code",
      "execution_count": null,
      "metadata": {
        "id": "B5voXggRBPLn"
      },
      "outputs": [],
      "source": [
        "class Autoencoder(nn.Module):\n",
        "    def __init__(self):\n",
        "        super(Autoencoder, self).__init__()\n",
        "        self.encoder = Encoder()\n",
        "        self.decoder = Decoder()\n",
        "\n",
        "    def forward(self, x):\n",
        "        x = self.encoder(x)\n",
        "        x = self.decoder(x)\n",
        "        return x\n",
        "\n",
        "model = Autoencoder()\n",
        "# print(model)"
      ]
    },
    {
      "cell_type": "code",
      "source": [
        "fig, axs = plt.subplots(2, 10, figsize=(20, 4))\n",
        "for i in range(10):\n",
        "  img, _ =  trainset[i]\n",
        "  axs[0, i].imshow(img[0], cmap='gray')\n",
        "  axs[1, i].imshow(model(img.unsqueeze(0)).detach().numpy()[0][0], cmap='gray')\n",
        "\n",
        "plt.show()"
      ],
      "metadata": {
        "id": "jliXRJa8Fx37"
      },
      "execution_count": null,
      "outputs": []
    },
    {
      "cell_type": "code",
      "execution_count": null,
      "metadata": {
        "colab": {
          "base_uri": "https://localhost:8080/"
        },
        "id": "nX1JBrvaB_d1",
        "outputId": "9af52db8-c4aa-48dc-95df-4826027977d5"
      },
      "outputs": [
        {
          "output_type": "stream",
          "name": "stdout",
          "text": [
            "Epoch [1/10], Loss: 0.0083\n",
            "Epoch [2/10], Loss: 0.0063\n",
            "Epoch [3/10], Loss: 0.0053\n",
            "Epoch [4/10], Loss: 0.0063\n",
            "Epoch [5/10], Loss: 0.0055\n",
            "Epoch [6/10], Loss: 0.0060\n",
            "Epoch [7/10], Loss: 0.0054\n",
            "Epoch [8/10], Loss: 0.0062\n",
            "Epoch [9/10], Loss: 0.0048\n",
            "Epoch [10/10], Loss: 0.0041\n"
          ]
        }
      ],
      "source": [
        "# Set up loss function and optimizer\n",
        "criterion = nn.MSELoss()\n",
        "optimizer = optim.Adam(model.parameters(), lr=0.001)\n",
        "\n",
        "# Training loop\n",
        "epochs = 10\n",
        "for epoch in range(epochs):\n",
        "    loss = 0\n",
        "    for data in trainloader:\n",
        "        images, _ = data\n",
        "        optimizer.zero_grad()\n",
        "        output = model(images)\n",
        "        loss = criterion(output, images)\n",
        "        loss.backward()\n",
        "        optimizer.step()\n",
        "    print(f'Epoch [{epoch+1}/{epochs}], Loss: {loss.item():.4f}')"
      ]
    },
    {
      "cell_type": "code",
      "source": [
        "fig, axs = plt.subplots(2, 10, figsize=(20, 4))\n",
        "for i in range(10):\n",
        "  img, _ =  trainset[i]\n",
        "  axs[0, i].imshow(img[0], cmap='gray')\n",
        "  axs[1, i].imshow(model(img.unsqueeze(0)).detach().numpy()[0][0], cmap='gray')\n",
        "\n",
        "plt.show()"
      ],
      "metadata": {
        "id": "akd8fabfF1yJ",
        "colab": {
          "base_uri": "https://localhost:8080/",
          "height": 323
        },
        "outputId": "880b7dd0-4db4-47a0-d639-d5e595e9090e"
      },
      "execution_count": 126,
      "outputs": [
        {
          "output_type": "display_data",
          "data": {
            "text/plain": [
              "<Figure size 2000x400 with 20 Axes>"
            ],
            "image/png": "[encoded data removed]"
          },
          "metadata": {}
        }
      ]
    }
  ],
  "metadata": {
    "colab": {
      "provenance": []
    },
    "kernelspec": {
      "display_name": "Python 3",
      "name": "python3"
    },
    "language_info": {
      "name": "python"
    }
  },
  "nbformat": 4,
  "nbformat_minor": 0
}